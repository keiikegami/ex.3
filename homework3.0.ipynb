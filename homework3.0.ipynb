{
 "cells": [
  {
   "cell_type": "markdown",
   "metadata": {},
   "source": [
    "# DiscreteDP Example: Asset Replacement"
   ]
  },
  {
   "cell_type": "code",
   "execution_count": 36,
   "metadata": {},
   "outputs": [
    {
     "name": "stderr",
     "output_type": "stream",
     "text": [
      "\u001b[1m\u001b[36mINFO: \u001b[39m\u001b[22m\u001b[36mRecompiling stale cache file C:\\Users\\mao21\\.julia\\lib\\v0.6\\QuantEcon.ji for module QuantEcon.\n",
      "\u001b[39mWARNING: --output requested, but no modules defined during run\n",
      "\u001b[1m\u001b[33mWARNING: \u001b[39m\u001b[22m\u001b[33mThe call to compilecache failed to create a usable precompiled cache file for module FFTW. Got:\u001b[39m\n",
      "\u001b[1m\u001b[33mWARNING: \u001b[39m\u001b[22m\u001b[33mCache file \"C:\\Users\\mao21\\.julia\\lib\\v0.6\\FFTW.ji\" not found.\u001b[39m\n",
      "WARNING: eval from module Main to DSP:    \n",
      "Expr(:call, Expr(:., :Base, :include_from_node1)::Any, \"C:\\Users\\mao21\\.julia\\v0.6\\FFTW\\src\\FFTW.jl\")::Any\n",
      "  ** incremental compilation may be broken for this module **\n",
      "\n"
     ]
    }
   ],
   "source": [
    "using QuantEcon"
   ]
  },
  {
   "cell_type": "code",
   "execution_count": 2,
   "metadata": {},
   "outputs": [
    {
     "data": {
      "text/plain": [
       "2"
      ]
     },
     "execution_count": 2,
     "metadata": {},
     "output_type": "execute_result"
    }
   ],
   "source": [
    "maxage = 5    # Maximum asset age\n",
    "repcost = 75  # Replacement cost\n",
    "beta = 0.9    # Discount factor\n",
    "m = 2         # Number of actions; 1: keep, 2: replace"
   ]
  },
  {
   "cell_type": "code",
   "execution_count": 4,
   "metadata": {},
   "outputs": [
    {
     "data": {
      "text/plain": [
       "5"
      ]
     },
     "execution_count": 4,
     "metadata": {},
     "output_type": "execute_result"
    }
   ],
   "source": [
    "S = [i for i in 1:maxage]\n",
    "n = length(S)"
   ]
  },
  {
   "cell_type": "code",
   "execution_count": 19,
   "metadata": {
    "scrolled": true
   },
   "outputs": [
    {
     "data": {
      "text/plain": [
       "-Inf"
      ]
     },
     "execution_count": 19,
     "metadata": {},
     "output_type": "execute_result"
    }
   ],
   "source": [
    "# Reward array\n",
    "R = Array{Float64}(n,m)\n",
    "for i in 1:n\n",
    "R[i, 1] = 50 - 2.5 * S[i] - 2.5 * S[i]^2\n",
    "R[i, 2] = 50 - repcost\n",
    "end\n",
    "\n",
    "# Infeasible action\n",
    "R[n,1] = -Inf"
   ]
  },
  {
   "cell_type": "code",
   "execution_count": 20,
   "metadata": {},
   "outputs": [
    {
     "data": {
      "text/plain": [
       "5×2 Array{Float64,2}:\n",
       "   45.0  -25.0\n",
       "   35.0  -25.0\n",
       "   20.0  -25.0\n",
       "    0.0  -25.0\n",
       " -Inf    -25.0"
      ]
     },
     "execution_count": 20,
     "metadata": {},
     "output_type": "execute_result"
    }
   ],
   "source": [
    "R"
   ]
  },
  {
   "cell_type": "code",
   "execution_count": 40,
   "metadata": {},
   "outputs": [],
   "source": [
    "# (Degenerate) transition probability array\n",
    "Q = zeros(n,m,n)\n",
    "for i in 1:n\n",
    "    Q[min(i+1, n), 1, i] = 1\n",
    "    Q[1, 2, i] = 1\n",
    "end"
   ]
  },
  {
   "cell_type": "code",
   "execution_count": 41,
   "metadata": {
    "scrolled": false
   },
   "outputs": [
    {
     "data": {
      "text/plain": [
       "5×2×5 Array{Float64,3}:\n",
       "[:, :, 1] =\n",
       " 0.0  1.0\n",
       " 1.0  0.0\n",
       " 0.0  0.0\n",
       " 0.0  0.0\n",
       " 0.0  0.0\n",
       "\n",
       "[:, :, 2] =\n",
       " 0.0  1.0\n",
       " 0.0  0.0\n",
       " 1.0  0.0\n",
       " 0.0  0.0\n",
       " 0.0  0.0\n",
       "\n",
       "[:, :, 3] =\n",
       " 0.0  1.0\n",
       " 0.0  0.0\n",
       " 0.0  0.0\n",
       " 1.0  0.0\n",
       " 0.0  0.0\n",
       "\n",
       "[:, :, 4] =\n",
       " 0.0  1.0\n",
       " 0.0  0.0\n",
       " 0.0  0.0\n",
       " 0.0  0.0\n",
       " 1.0  0.0\n",
       "\n",
       "[:, :, 5] =\n",
       " 0.0  1.0\n",
       " 0.0  0.0\n",
       " 0.0  0.0\n",
       " 0.0  0.0\n",
       " 1.0  0.0"
      ]
     },
     "execution_count": 41,
     "metadata": {},
     "output_type": "execute_result"
    }
   ],
   "source": [
    "Q"
   ]
  },
  {
   "cell_type": "code",
   "execution_count": 42,
   "metadata": {
    "scrolled": false
   },
   "outputs": [
    {
     "data": {
      "text/plain": [
       "QuantEcon.DiscreteDP{Float64,3,2,Float64,Int64}([45.0 -25.0; 35.0 -25.0; … ; 0.0 -25.0; -Inf -25.0], [0.0 1.0; 1.0 0.0; … ; 0.0 0.0; 0.0 0.0]\n",
       "\n",
       "[0.0 1.0; 0.0 0.0; … ; 0.0 0.0; 0.0 0.0]\n",
       "\n",
       "[0.0 1.0; 0.0 0.0; … ; 1.0 0.0; 0.0 0.0]\n",
       "\n",
       "[0.0 1.0; 0.0 0.0; … ; 0.0 0.0; 1.0 0.0]\n",
       "\n",
       "[0.0 1.0; 0.0 0.0; … ; 0.0 0.0; 1.0 0.0], 0.9, Nullable{Array{Int64,1}}(), Nullable{Array{Int64,1}}())"
      ]
     },
     "execution_count": 42,
     "metadata": {},
     "output_type": "execute_result"
    }
   ],
   "source": [
    "# Create a DiscreteDP\n",
    "ddp = DiscreteDP(R, Q, beta)"
   ]
  },
  {
   "cell_type": "code",
   "execution_count": 45,
   "metadata": {},
   "outputs": [
    {
     "ename": "LoadError",
     "evalue": "\u001b[91mArgumentError: stochastic matrix rows must sum to 1\u001b[39m",
     "output_type": "error",
     "traceback": [
      "\u001b[91mArgumentError: stochastic matrix rows must sum to 1\u001b[39m",
      "",
      "Stacktrace:",
      " [1] \u001b[1mQuantEcon.MarkovChain{Float64,Array{Float64,2},UnitRange{Int64}}\u001b[22m\u001b[22m\u001b[1m(\u001b[22m\u001b[22m::Array{Float64,2}, ::UnitRange{Int64}\u001b[1m)\u001b[22m\u001b[22m at \u001b[1mC:\\Users\\mao21\\.julia\\v0.6\\QuantEcon\\src\\markov\\mc_tools.jl:47\u001b[22m\u001b[22m",
      " [2] \u001b[1mQuantEcon.MarkovChain\u001b[22m\u001b[22m\u001b[1m(\u001b[22m\u001b[22m::Array{Float64,2}\u001b[1m)\u001b[22m\u001b[22m at \u001b[1mC:\\Users\\mao21\\.julia\\v0.6\\QuantEcon\\src\\markov\\mc_tools.jl:58\u001b[22m\u001b[22m",
      " [3] \u001b[1mQuantEcon.MarkovChain\u001b[22m\u001b[22m\u001b[1m(\u001b[22m\u001b[22m::QuantEcon.DiscreteDP{Float64,3,2,Float64,Int64}, ::QuantEcon.DPSolveResult{QuantEcon.VFI,Float64}\u001b[1m)\u001b[22m\u001b[22m at \u001b[1mC:\\Users\\mao21\\.julia\\v0.6\\QuantEcon\\src\\markov\\ddp.jl:516\u001b[22m\u001b[22m",
      " [4] \u001b[1m#solve#36\u001b[22m\u001b[22m at \u001b[1mC:\\Users\\mao21\\.julia\\v0.6\\QuantEcon\\src\\markov\\ddp.jl:486\u001b[22m\u001b[22m [inlined]",
      " [5] \u001b[1msolve\u001b[22m\u001b[22m at \u001b[1mC:\\Users\\mao21\\.julia\\v0.6\\QuantEcon\\src\\markov\\ddp.jl:484\u001b[22m\u001b[22m [inlined] (repeats 2 times)",
      " [6] \u001b[1minclude_string\u001b[22m\u001b[22m\u001b[1m(\u001b[22m\u001b[22m::String, ::String\u001b[1m)\u001b[22m\u001b[22m at \u001b[1m.\\loading.jl:515\u001b[22m\u001b[22m"
     ]
    }
   ],
   "source": [
    "# Solve the dynamic optimization problem (by policy iteration)\n",
    "res = solve(ddp)"
   ]
  },
  {
   "cell_type": "code",
   "execution_count": null,
   "metadata": {
    "collapsed": true
   },
   "outputs": [],
   "source": []
  }
 ],
 "metadata": {
  "kernelspec": {
   "display_name": "Julia 0.6.0",
   "language": "julia",
   "name": "julia-0.6"
  },
  "language_info": {
   "file_extension": ".jl",
   "mimetype": "application/julia",
   "name": "julia",
   "version": "0.6.0"
  }
 },
 "nbformat": 4,
 "nbformat_minor": 2
}
